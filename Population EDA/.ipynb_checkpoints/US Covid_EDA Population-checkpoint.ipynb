{
 "cells": [
  {
   "cell_type": "markdown",
   "id": "24e93594",
   "metadata": {},
   "source": [
    "# Exploring spread of Covid using Population Parameters as a predictor"
   ]
  },
  {
   "cell_type": "code",
   "execution_count": null,
   "id": "c2cc06e8",
   "metadata": {},
   "outputs": [],
   "source": [
    "# Basic Libraries\n",
    "import numpy as np\n",
    "import pandas as pd\n",
    "import seaborn as sb\n",
    "import matplotlib.pyplot as plt\n",
    "from sklearn.model_selection import train_test_split\n",
    "from sklearn.linear_model import LinearRegression\n",
    "from sklearn.metrics import mean_squared_error\n",
    "linreg = LinearRegression()\n",
    "sb.set()"
   ]
  },
  {
   "cell_type": "code",
   "execution_count": 17,
   "id": "d32b5ddb",
   "metadata": {},
   "outputs": [],
   "source": [
    "# Helper Functions\n",
    "# Removing Outliers\n",
    "def removeOutliers(df):\n",
    "    temp = pd.DataFrame()\n",
    "    for var in df:\n",
    "        Q1 = df[var].quantile(0.25)\n",
    "        Q3 = df[var].quantile(0.75)\n",
    "        IQR = Q3 - Q1\n",
    "        temp[var] = df[var][((df[var] > (Q1 - 1.5 * IQR)) & (df[var] < (Q3 + 1.5 * IQR)))]\n",
    "    temp = temp.dropna()\n",
    "    return temp\n",
    "\n",
    "# Mean Squared Error (MSE)\n",
    "def mean_sq_err(actual, predicted):\n",
    "    '''Returns the Mean Squared Error of actual and predicted values'''\n",
    "    return np.mean(np.square(np.array(actual) - np.array(predicted)))"
   ]
  },
  {
   "cell_type": "code",
   "execution_count": 18,
   "id": "9480fdc7",
   "metadata": {},
   "outputs": [
    {
     "data": {
      "text/html": [
       "<div>\n",
       "<style scoped>\n",
       "    .dataframe tbody tr th:only-of-type {\n",
       "        vertical-align: middle;\n",
       "    }\n",
       "\n",
       "    .dataframe tbody tr th {\n",
       "        vertical-align: top;\n",
       "    }\n",
       "\n",
       "    .dataframe thead th {\n",
       "        text-align: right;\n",
       "    }\n",
       "</style>\n",
       "<table border=\"1\" class=\"dataframe\">\n",
       "  <thead>\n",
       "    <tr style=\"text-align: right;\">\n",
       "      <th></th>\n",
       "      <th>COUNTYNS</th>\n",
       "      <th>Geographic Identifier - FIPS Code</th>\n",
       "      <th>Area of Land (square meters)</th>\n",
       "      <th>Area of Water (square meters)</th>\n",
       "      <th>Name</th>\n",
       "      <th>State</th>\n",
       "      <th>Average Household Size</th>\n",
       "      <th>Average Household Size - Margin of Error</th>\n",
       "      <th>Average Household Size of Owner-Occupied Unit</th>\n",
       "      <th>Average Household Size of Owner-Occupied Unit - Margin of Error</th>\n",
       "      <th>...</th>\n",
       "      <th>County_Name_y</th>\n",
       "      <th>Province_State</th>\n",
       "      <th>Country_Region</th>\n",
       "      <th>Lat</th>\n",
       "      <th>Long_</th>\n",
       "      <th>Combined_Key</th>\n",
       "      <th>Date</th>\n",
       "      <th>Confirmed</th>\n",
       "      <th>Deaths</th>\n",
       "      <th>Death to Case Ratio</th>\n",
       "    </tr>\n",
       "  </thead>\n",
       "  <tbody>\n",
       "    <tr>\n",
       "      <th>0</th>\n",
       "      <td>161526</td>\n",
       "      <td>1001</td>\n",
       "      <td>1.539602e+09</td>\n",
       "      <td>25706961</td>\n",
       "      <td>Autauga County</td>\n",
       "      <td>Alabama</td>\n",
       "      <td>2.59</td>\n",
       "      <td>0.05</td>\n",
       "      <td>2.59</td>\n",
       "      <td>0.07</td>\n",
       "      <td>...</td>\n",
       "      <td>Autauga</td>\n",
       "      <td>Alabama</td>\n",
       "      <td>US</td>\n",
       "      <td>32.539527</td>\n",
       "      <td>-86.644082</td>\n",
       "      <td>Autauga, Alabama, US</td>\n",
       "      <td>7/27/2020</td>\n",
       "      <td>932</td>\n",
       "      <td>20</td>\n",
       "      <td>0.021459</td>\n",
       "    </tr>\n",
       "    <tr>\n",
       "      <th>1</th>\n",
       "      <td>161527</td>\n",
       "      <td>1003</td>\n",
       "      <td>4.117547e+09</td>\n",
       "      <td>1133055836</td>\n",
       "      <td>Baldwin County</td>\n",
       "      <td>Alabama</td>\n",
       "      <td>2.61</td>\n",
       "      <td>0.04</td>\n",
       "      <td>2.66</td>\n",
       "      <td>0.06</td>\n",
       "      <td>...</td>\n",
       "      <td>Baldwin</td>\n",
       "      <td>Alabama</td>\n",
       "      <td>US</td>\n",
       "      <td>30.727750</td>\n",
       "      <td>-87.722071</td>\n",
       "      <td>Baldwin, Alabama, US</td>\n",
       "      <td>7/27/2020</td>\n",
       "      <td>2727</td>\n",
       "      <td>17</td>\n",
       "      <td>0.006234</td>\n",
       "    </tr>\n",
       "    <tr>\n",
       "      <th>2</th>\n",
       "      <td>161528</td>\n",
       "      <td>1005</td>\n",
       "      <td>2.292145e+09</td>\n",
       "      <td>50538698</td>\n",
       "      <td>Barbour County</td>\n",
       "      <td>Alabama</td>\n",
       "      <td>2.49</td>\n",
       "      <td>0.07</td>\n",
       "      <td>2.44</td>\n",
       "      <td>0.11</td>\n",
       "      <td>...</td>\n",
       "      <td>Barbour</td>\n",
       "      <td>Alabama</td>\n",
       "      <td>US</td>\n",
       "      <td>31.868263</td>\n",
       "      <td>-85.387129</td>\n",
       "      <td>Barbour, Alabama, US</td>\n",
       "      <td>7/27/2020</td>\n",
       "      <td>529</td>\n",
       "      <td>4</td>\n",
       "      <td>0.007561</td>\n",
       "    </tr>\n",
       "    <tr>\n",
       "      <th>3</th>\n",
       "      <td>161529</td>\n",
       "      <td>1007</td>\n",
       "      <td>1.612167e+09</td>\n",
       "      <td>9602089</td>\n",
       "      <td>Bibb County</td>\n",
       "      <td>Alabama</td>\n",
       "      <td>2.99</td>\n",
       "      <td>0.14</td>\n",
       "      <td>3.05</td>\n",
       "      <td>0.18</td>\n",
       "      <td>...</td>\n",
       "      <td>Bibb</td>\n",
       "      <td>Alabama</td>\n",
       "      <td>US</td>\n",
       "      <td>32.996421</td>\n",
       "      <td>-87.125115</td>\n",
       "      <td>Bibb, Alabama, US</td>\n",
       "      <td>7/27/2020</td>\n",
       "      <td>327</td>\n",
       "      <td>2</td>\n",
       "      <td>0.006116</td>\n",
       "    </tr>\n",
       "    <tr>\n",
       "      <th>4</th>\n",
       "      <td>161530</td>\n",
       "      <td>1009</td>\n",
       "      <td>1.670104e+09</td>\n",
       "      <td>15015423</td>\n",
       "      <td>Blount County</td>\n",
       "      <td>Alabama</td>\n",
       "      <td>2.77</td>\n",
       "      <td>0.05</td>\n",
       "      <td>2.85</td>\n",
       "      <td>0.07</td>\n",
       "      <td>...</td>\n",
       "      <td>Blount</td>\n",
       "      <td>Alabama</td>\n",
       "      <td>US</td>\n",
       "      <td>33.982109</td>\n",
       "      <td>-86.567906</td>\n",
       "      <td>Blount, Alabama, US</td>\n",
       "      <td>7/27/2020</td>\n",
       "      <td>601</td>\n",
       "      <td>1</td>\n",
       "      <td>0.001664</td>\n",
       "    </tr>\n",
       "  </tbody>\n",
       "</table>\n",
       "<p>5 rows × 314 columns</p>\n",
       "</div>"
      ],
      "text/plain": [
       "   COUNTYNS  Geographic Identifier - FIPS Code  Area of Land (square meters)  \\\n",
       "0    161526                               1001                  1.539602e+09   \n",
       "1    161527                               1003                  4.117547e+09   \n",
       "2    161528                               1005                  2.292145e+09   \n",
       "3    161529                               1007                  1.612167e+09   \n",
       "4    161530                               1009                  1.670104e+09   \n",
       "\n",
       "   Area of Water (square meters)            Name    State  \\\n",
       "0                       25706961  Autauga County  Alabama   \n",
       "1                     1133055836  Baldwin County  Alabama   \n",
       "2                       50538698  Barbour County  Alabama   \n",
       "3                        9602089     Bibb County  Alabama   \n",
       "4                       15015423   Blount County  Alabama   \n",
       "\n",
       "   Average Household Size  Average Household Size - Margin of Error  \\\n",
       "0                    2.59                                      0.05   \n",
       "1                    2.61                                      0.04   \n",
       "2                    2.49                                      0.07   \n",
       "3                    2.99                                      0.14   \n",
       "4                    2.77                                      0.05   \n",
       "\n",
       "   Average Household Size of Owner-Occupied Unit  \\\n",
       "0                                           2.59   \n",
       "1                                           2.66   \n",
       "2                                           2.44   \n",
       "3                                           3.05   \n",
       "4                                           2.85   \n",
       "\n",
       "   Average Household Size of Owner-Occupied Unit - Margin of Error  ...  \\\n",
       "0                                               0.07                ...   \n",
       "1                                               0.06                ...   \n",
       "2                                               0.11                ...   \n",
       "3                                               0.18                ...   \n",
       "4                                               0.07                ...   \n",
       "\n",
       "   County_Name_y  Province_State  Country_Region        Lat      Long_  \\\n",
       "0        Autauga         Alabama              US  32.539527 -86.644082   \n",
       "1        Baldwin         Alabama              US  30.727750 -87.722071   \n",
       "2        Barbour         Alabama              US  31.868263 -85.387129   \n",
       "3           Bibb         Alabama              US  32.996421 -87.125115   \n",
       "4         Blount         Alabama              US  33.982109 -86.567906   \n",
       "\n",
       "           Combined_Key       Date Confirmed Deaths  Death to Case Ratio  \n",
       "0  Autauga, Alabama, US  7/27/2020       932     20             0.021459  \n",
       "1  Baldwin, Alabama, US  7/27/2020      2727     17             0.006234  \n",
       "2  Barbour, Alabama, US  7/27/2020       529      4             0.007561  \n",
       "3     Bibb, Alabama, US  7/27/2020       327      2             0.006116  \n",
       "4   Blount, Alabama, US  7/27/2020       601      1             0.001664  \n",
       "\n",
       "[5 rows x 314 columns]"
      ]
     },
     "execution_count": 18,
     "metadata": {},
     "output_type": "execute_result"
    }
   ],
   "source": [
    "usa_covid = pd.read_csv('county_megaset.csv')\n",
    "usa_covid['Death to Case Ratio'] = pd.DataFrame(usa_covid['Deaths']/usa_covid['Confirmed'])\n",
    "usa_covid.head()"
   ]
  },
  {
   "cell_type": "code",
   "execution_count": 19,
   "id": "44fa8133",
   "metadata": {},
   "outputs": [
    {
     "data": {
      "text/html": [
       "<div>\n",
       "<style scoped>\n",
       "    .dataframe tbody tr th:only-of-type {\n",
       "        vertical-align: middle;\n",
       "    }\n",
       "\n",
       "    .dataframe tbody tr th {\n",
       "        vertical-align: top;\n",
       "    }\n",
       "\n",
       "    .dataframe thead th {\n",
       "        text-align: right;\n",
       "    }\n",
       "</style>\n",
       "<table border=\"1\" class=\"dataframe\">\n",
       "  <thead>\n",
       "    <tr style=\"text-align: right;\">\n",
       "      <th></th>\n",
       "      <th>COUNTYNS</th>\n",
       "      <th>Geographic Identifier - FIPS Code</th>\n",
       "      <th>Area of Land (square meters)</th>\n",
       "      <th>Area of Water (square meters)</th>\n",
       "      <th>Average Household Size</th>\n",
       "      <th>Average Household Size - Margin of Error</th>\n",
       "      <th>Average Household Size of Owner-Occupied Unit</th>\n",
       "      <th>Average Household Size of Owner-Occupied Unit - Margin of Error</th>\n",
       "      <th>Average Household Size of Renter-Occupied Unit</th>\n",
       "      <th>Average Household Size of Renter-Occupied Unit - Margin of Error</th>\n",
       "      <th>...</th>\n",
       "      <th>Total NonFamily Hhlds w/Female Householder *margin of error</th>\n",
       "      <th>Shape__Area</th>\n",
       "      <th>Shape__Length</th>\n",
       "      <th>UID</th>\n",
       "      <th>code3</th>\n",
       "      <th>Lat</th>\n",
       "      <th>Long_</th>\n",
       "      <th>Confirmed</th>\n",
       "      <th>Deaths</th>\n",
       "      <th>Death to Case Ratio</th>\n",
       "    </tr>\n",
       "  </thead>\n",
       "  <tbody>\n",
       "    <tr>\n",
       "      <th>count</th>\n",
       "      <td>3.220000e+03</td>\n",
       "      <td>3220.000000</td>\n",
       "      <td>3.220000e+03</td>\n",
       "      <td>3.220000e+03</td>\n",
       "      <td>3220.000000</td>\n",
       "      <td>3220.000000</td>\n",
       "      <td>3219.000000</td>\n",
       "      <td>3219.000000</td>\n",
       "      <td>3220.000000</td>\n",
       "      <td>3220.000000</td>\n",
       "      <td>...</td>\n",
       "      <td>3220.000000</td>\n",
       "      <td>3220.000000</td>\n",
       "      <td>3220.000000</td>\n",
       "      <td>3.220000e+03</td>\n",
       "      <td>3220.000000</td>\n",
       "      <td>3220.000000</td>\n",
       "      <td>3220.000000</td>\n",
       "      <td>3220.000000</td>\n",
       "      <td>3220.00000</td>\n",
       "      <td>3159.000000</td>\n",
       "    </tr>\n",
       "    <tr>\n",
       "      <th>mean</th>\n",
       "      <td>9.628897e+05</td>\n",
       "      <td>31393.605280</td>\n",
       "      <td>2.844093e+09</td>\n",
       "      <td>2.143251e+08</td>\n",
       "      <td>2.529093</td>\n",
       "      <td>0.081494</td>\n",
       "      <td>2.563088</td>\n",
       "      <td>0.102336</td>\n",
       "      <td>2.444950</td>\n",
       "      <td>0.202314</td>\n",
       "      <td>...</td>\n",
       "      <td>345.832609</td>\n",
       "      <td>2.581581</td>\n",
       "      <td>0.342835</td>\n",
       "      <td>8.352270e+07</td>\n",
       "      <td>834.913043</td>\n",
       "      <td>37.965788</td>\n",
       "      <td>-91.661759</td>\n",
       "      <td>1316.137578</td>\n",
       "      <td>45.27764</td>\n",
       "      <td>0.021551</td>\n",
       "    </tr>\n",
       "    <tr>\n",
       "      <th>std</th>\n",
       "      <td>5.174236e+05</td>\n",
       "      <td>16292.078954</td>\n",
       "      <td>9.255389e+09</td>\n",
       "      <td>1.220804e+09</td>\n",
       "      <td>0.279374</td>\n",
       "      <td>0.067781</td>\n",
       "      <td>0.274885</td>\n",
       "      <td>0.079810</td>\n",
       "      <td>0.393263</td>\n",
       "      <td>0.182878</td>\n",
       "      <td>...</td>\n",
       "      <td>372.099228</td>\n",
       "      <td>3.558888</td>\n",
       "      <td>1.790048</td>\n",
       "      <td>3.222722e+06</td>\n",
       "      <td>32.290983</td>\n",
       "      <td>6.095200</td>\n",
       "      <td>13.388721</td>\n",
       "      <td>6962.304363</td>\n",
       "      <td>456.31641</td>\n",
       "      <td>0.028900</td>\n",
       "    </tr>\n",
       "    <tr>\n",
       "      <th>min</th>\n",
       "      <td>2.390100e+04</td>\n",
       "      <td>1001.000000</td>\n",
       "      <td>5.300265e+06</td>\n",
       "      <td>0.000000e+00</td>\n",
       "      <td>1.340000</td>\n",
       "      <td>0.010000</td>\n",
       "      <td>1.790000</td>\n",
       "      <td>0.010000</td>\n",
       "      <td>1.360000</td>\n",
       "      <td>0.010000</td>\n",
       "      <td>...</td>\n",
       "      <td>12.000000</td>\n",
       "      <td>0.126110</td>\n",
       "      <td>0.000550</td>\n",
       "      <td>6.307200e+07</td>\n",
       "      <td>630.000000</td>\n",
       "      <td>17.982429</td>\n",
       "      <td>-174.159600</td>\n",
       "      <td>0.000000</td>\n",
       "      <td>0.00000</td>\n",
       "      <td>0.000000</td>\n",
       "    </tr>\n",
       "    <tr>\n",
       "      <th>25%</th>\n",
       "      <td>4.849888e+05</td>\n",
       "      <td>19032.500000</td>\n",
       "      <td>1.085268e+09</td>\n",
       "      <td>7.009854e+06</td>\n",
       "      <td>2.350000</td>\n",
       "      <td>0.040000</td>\n",
       "      <td>2.400000</td>\n",
       "      <td>0.050000</td>\n",
       "      <td>2.200000</td>\n",
       "      <td>0.100000</td>\n",
       "      <td>...</td>\n",
       "      <td>135.000000</td>\n",
       "      <td>1.622240</td>\n",
       "      <td>0.114586</td>\n",
       "      <td>8.401806e+07</td>\n",
       "      <td>840.000000</td>\n",
       "      <td>34.353621</td>\n",
       "      <td>-98.086287</td>\n",
       "      <td>43.000000</td>\n",
       "      <td>0.00000</td>\n",
       "      <td>0.000000</td>\n",
       "    </tr>\n",
       "    <tr>\n",
       "      <th>50%</th>\n",
       "      <td>9.741585e+05</td>\n",
       "      <td>30024.000000</td>\n",
       "      <td>1.565689e+09</td>\n",
       "      <td>1.938601e+07</td>\n",
       "      <td>2.490000</td>\n",
       "      <td>0.070000</td>\n",
       "      <td>2.520000</td>\n",
       "      <td>0.090000</td>\n",
       "      <td>2.400000</td>\n",
       "      <td>0.170000</td>\n",
       "      <td>...</td>\n",
       "      <td>235.000000</td>\n",
       "      <td>1.975052</td>\n",
       "      <td>0.164877</td>\n",
       "      <td>8.402910e+07</td>\n",
       "      <td>840.000000</td>\n",
       "      <td>38.212711</td>\n",
       "      <td>-89.945118</td>\n",
       "      <td>158.000000</td>\n",
       "      <td>2.00000</td>\n",
       "      <td>0.012367</td>\n",
       "    </tr>\n",
       "    <tr>\n",
       "      <th>75%</th>\n",
       "      <td>1.419973e+06</td>\n",
       "      <td>46105.500000</td>\n",
       "      <td>2.368884e+09</td>\n",
       "      <td>6.069241e+07</td>\n",
       "      <td>2.650000</td>\n",
       "      <td>0.100000</td>\n",
       "      <td>2.690000</td>\n",
       "      <td>0.130000</td>\n",
       "      <td>2.640000</td>\n",
       "      <td>0.250000</td>\n",
       "      <td>...</td>\n",
       "      <td>405.250000</td>\n",
       "      <td>2.594089</td>\n",
       "      <td>0.246600</td>\n",
       "      <td>8.404504e+07</td>\n",
       "      <td>840.000000</td>\n",
       "      <td>41.694461</td>\n",
       "      <td>-82.990516</td>\n",
       "      <td>585.000000</td>\n",
       "      <td>13.00000</td>\n",
       "      <td>0.029668</td>\n",
       "    </tr>\n",
       "    <tr>\n",
       "      <th>max</th>\n",
       "      <td>2.516404e+06</td>\n",
       "      <td>72153.000000</td>\n",
       "      <td>3.770000e+11</td>\n",
       "      <td>2.599228e+10</td>\n",
       "      <td>4.970000</td>\n",
       "      <td>1.140000</td>\n",
       "      <td>4.880000</td>\n",
       "      <td>1.460000</td>\n",
       "      <td>6.810000</td>\n",
       "      <td>5.490000</td>\n",
       "      <td>...</td>\n",
       "      <td>4295.000000</td>\n",
       "      <td>71.549539</td>\n",
       "      <td>74.257061</td>\n",
       "      <td>8.405604e+07</td>\n",
       "      <td>840.000000</td>\n",
       "      <td>69.314792</td>\n",
       "      <td>-65.288130</td>\n",
       "      <td>224051.000000</td>\n",
       "      <td>23500.00000</td>\n",
       "      <td>0.285714</td>\n",
       "    </tr>\n",
       "  </tbody>\n",
       "</table>\n",
       "<p>8 rows × 293 columns</p>\n",
       "</div>"
      ],
      "text/plain": [
       "           COUNTYNS  Geographic Identifier - FIPS Code  \\\n",
       "count  3.220000e+03                        3220.000000   \n",
       "mean   9.628897e+05                       31393.605280   \n",
       "std    5.174236e+05                       16292.078954   \n",
       "min    2.390100e+04                        1001.000000   \n",
       "25%    4.849888e+05                       19032.500000   \n",
       "50%    9.741585e+05                       30024.000000   \n",
       "75%    1.419973e+06                       46105.500000   \n",
       "max    2.516404e+06                       72153.000000   \n",
       "\n",
       "       Area of Land (square meters)  Area of Water (square meters)  \\\n",
       "count                  3.220000e+03                   3.220000e+03   \n",
       "mean                   2.844093e+09                   2.143251e+08   \n",
       "std                    9.255389e+09                   1.220804e+09   \n",
       "min                    5.300265e+06                   0.000000e+00   \n",
       "25%                    1.085268e+09                   7.009854e+06   \n",
       "50%                    1.565689e+09                   1.938601e+07   \n",
       "75%                    2.368884e+09                   6.069241e+07   \n",
       "max                    3.770000e+11                   2.599228e+10   \n",
       "\n",
       "       Average Household Size  Average Household Size - Margin of Error  \\\n",
       "count             3220.000000                               3220.000000   \n",
       "mean                 2.529093                                  0.081494   \n",
       "std                  0.279374                                  0.067781   \n",
       "min                  1.340000                                  0.010000   \n",
       "25%                  2.350000                                  0.040000   \n",
       "50%                  2.490000                                  0.070000   \n",
       "75%                  2.650000                                  0.100000   \n",
       "max                  4.970000                                  1.140000   \n",
       "\n",
       "       Average Household Size of Owner-Occupied Unit  \\\n",
       "count                                    3219.000000   \n",
       "mean                                        2.563088   \n",
       "std                                         0.274885   \n",
       "min                                         1.790000   \n",
       "25%                                         2.400000   \n",
       "50%                                         2.520000   \n",
       "75%                                         2.690000   \n",
       "max                                         4.880000   \n",
       "\n",
       "       Average Household Size of Owner-Occupied Unit - Margin of Error  \\\n",
       "count                                        3219.000000                 \n",
       "mean                                            0.102336                 \n",
       "std                                             0.079810                 \n",
       "min                                             0.010000                 \n",
       "25%                                             0.050000                 \n",
       "50%                                             0.090000                 \n",
       "75%                                             0.130000                 \n",
       "max                                             1.460000                 \n",
       "\n",
       "       Average Household Size of Renter-Occupied Unit  \\\n",
       "count                                     3220.000000   \n",
       "mean                                         2.444950   \n",
       "std                                          0.393263   \n",
       "min                                          1.360000   \n",
       "25%                                          2.200000   \n",
       "50%                                          2.400000   \n",
       "75%                                          2.640000   \n",
       "max                                          6.810000   \n",
       "\n",
       "       Average Household Size of Renter-Occupied Unit - Margin of Error  ...  \\\n",
       "count                                        3220.000000                 ...   \n",
       "mean                                            0.202314                 ...   \n",
       "std                                             0.182878                 ...   \n",
       "min                                             0.010000                 ...   \n",
       "25%                                             0.100000                 ...   \n",
       "50%                                             0.170000                 ...   \n",
       "75%                                             0.250000                 ...   \n",
       "max                                             5.490000                 ...   \n",
       "\n",
       "       Total NonFamily Hhlds w/Female Householder *margin of error  \\\n",
       "count                                        3220.000000             \n",
       "mean                                          345.832609             \n",
       "std                                           372.099228             \n",
       "min                                            12.000000             \n",
       "25%                                           135.000000             \n",
       "50%                                           235.000000             \n",
       "75%                                           405.250000             \n",
       "max                                          4295.000000             \n",
       "\n",
       "       Shape__Area  Shape__Length           UID        code3          Lat  \\\n",
       "count  3220.000000    3220.000000  3.220000e+03  3220.000000  3220.000000   \n",
       "mean      2.581581       0.342835  8.352270e+07   834.913043    37.965788   \n",
       "std       3.558888       1.790048  3.222722e+06    32.290983     6.095200   \n",
       "min       0.126110       0.000550  6.307200e+07   630.000000    17.982429   \n",
       "25%       1.622240       0.114586  8.401806e+07   840.000000    34.353621   \n",
       "50%       1.975052       0.164877  8.402910e+07   840.000000    38.212711   \n",
       "75%       2.594089       0.246600  8.404504e+07   840.000000    41.694461   \n",
       "max      71.549539      74.257061  8.405604e+07   840.000000    69.314792   \n",
       "\n",
       "             Long_      Confirmed       Deaths  Death to Case Ratio  \n",
       "count  3220.000000    3220.000000   3220.00000          3159.000000  \n",
       "mean    -91.661759    1316.137578     45.27764             0.021551  \n",
       "std      13.388721    6962.304363    456.31641             0.028900  \n",
       "min    -174.159600       0.000000      0.00000             0.000000  \n",
       "25%     -98.086287      43.000000      0.00000             0.000000  \n",
       "50%     -89.945118     158.000000      2.00000             0.012367  \n",
       "75%     -82.990516     585.000000     13.00000             0.029668  \n",
       "max     -65.288130  224051.000000  23500.00000             0.285714  \n",
       "\n",
       "[8 rows x 293 columns]"
      ]
     },
     "execution_count": 19,
     "metadata": {},
     "output_type": "execute_result"
    }
   ],
   "source": [
    "usa_covid.describe()"
   ]
  },
  {
   "cell_type": "markdown",
   "id": "eeaba616",
   "metadata": {},
   "source": [
    "In merging all data sets, we now have over 300 columns of data, many of which can be used as predictor variables for our study. In this portion, we will be using population and its associated parameters as predictors for covid cases, covid related deaths, and finally the death-to-case ratio.\n",
    "\n",
    "The predictor variables of choice in this portion will be:\n",
    ">  Average Household Size  \n",
    ">  Total Population  \n",
    ">  Population Density (people per square kilometer)  \n",
    "\n",
    "\n",
    "Our belief is that population and population density will affect the spread of Covid-19 as a higher population may encourage interactions among people and quicken the spread of the virus."
   ]
  },
  {
   "cell_type": "code",
   "execution_count": 20,
   "id": "09cc8995",
   "metadata": {},
   "outputs": [],
   "source": [
    "usa_covid_population = usa_covid[['Average Household Size', 'Total Population', 'Population Density (people per square kilometer)', 'Confirmed', 'Deaths']]"
   ]
  },
  {
   "cell_type": "code",
   "execution_count": 21,
   "id": "21202d92",
   "metadata": {},
   "outputs": [
    {
     "data": {
      "text/html": [
       "<div>\n",
       "<style scoped>\n",
       "    .dataframe tbody tr th:only-of-type {\n",
       "        vertical-align: middle;\n",
       "    }\n",
       "\n",
       "    .dataframe tbody tr th {\n",
       "        vertical-align: top;\n",
       "    }\n",
       "\n",
       "    .dataframe thead th {\n",
       "        text-align: right;\n",
       "    }\n",
       "</style>\n",
       "<table border=\"1\" class=\"dataframe\">\n",
       "  <thead>\n",
       "    <tr style=\"text-align: right;\">\n",
       "      <th></th>\n",
       "      <th>Average Household Size</th>\n",
       "      <th>Total Population</th>\n",
       "      <th>Population Density (people per square kilometer)</th>\n",
       "      <th>Confirmed</th>\n",
       "    </tr>\n",
       "  </thead>\n",
       "  <tbody>\n",
       "    <tr>\n",
       "      <th>Average Household Size</th>\n",
       "      <td>1.000000</td>\n",
       "      <td>0.139192</td>\n",
       "      <td>0.029915</td>\n",
       "      <td>0.101094</td>\n",
       "    </tr>\n",
       "    <tr>\n",
       "      <th>Total Population</th>\n",
       "      <td>0.139192</td>\n",
       "      <td>1.000000</td>\n",
       "      <td>0.328844</td>\n",
       "      <td>0.793674</td>\n",
       "    </tr>\n",
       "    <tr>\n",
       "      <th>Population Density (people per square kilometer)</th>\n",
       "      <td>0.029915</td>\n",
       "      <td>0.328844</td>\n",
       "      <td>1.000000</td>\n",
       "      <td>0.527933</td>\n",
       "    </tr>\n",
       "    <tr>\n",
       "      <th>Confirmed</th>\n",
       "      <td>0.101094</td>\n",
       "      <td>0.793674</td>\n",
       "      <td>0.527933</td>\n",
       "      <td>1.000000</td>\n",
       "    </tr>\n",
       "  </tbody>\n",
       "</table>\n",
       "</div>"
      ],
      "text/plain": [
       "                                                  Average Household Size  \\\n",
       "Average Household Size                                          1.000000   \n",
       "Total Population                                                0.139192   \n",
       "Population Density (people per square kilometer)                0.029915   \n",
       "Confirmed                                                       0.101094   \n",
       "\n",
       "                                                  Total Population  \\\n",
       "Average Household Size                                    0.139192   \n",
       "Total Population                                          1.000000   \n",
       "Population Density (people per square kilometer)          0.328844   \n",
       "Confirmed                                                 0.793674   \n",
       "\n",
       "                                                  Population Density (people per square kilometer)  \\\n",
       "Average Household Size                                                                    0.029915   \n",
       "Total Population                                                                          0.328844   \n",
       "Population Density (people per square kilometer)                                          1.000000   \n",
       "Confirmed                                                                                 0.527933   \n",
       "\n",
       "                                                  Confirmed  \n",
       "Average Household Size                             0.101094  \n",
       "Total Population                                   0.793674  \n",
       "Population Density (people per square kilometer)   0.527933  \n",
       "Confirmed                                          1.000000  "
      ]
     },
     "execution_count": 21,
     "metadata": {},
     "output_type": "execute_result"
    }
   ],
   "source": [
    "usa_covid_population.corr()"
   ]
  },
  {
   "cell_type": "code",
   "execution_count": 28,
   "id": "da5b4bdb",
   "metadata": {},
   "outputs": [
    {
     "data": {
      "text/plain": [
       "<AxesSubplot:>"
      ]
     },
     "execution_count": 28,
     "metadata": {},
     "output_type": "execute_result"
    },
    {
     "data": {
      "image/png": "[encoded data removed]",
      "text/plain": [
       "<Figure size 288x288 with 2 Axes>"
      ]
     },
     "metadata": {},
     "output_type": "display_data"
    }
   ],
   "source": [
    "sb.set(font_scale=1.4)\n",
    "f = plt.figure(figsize=(4, 4))\n",
    "\n",
    "sb.heatmap(usa_covid_population.corr(), vmin = -1, vmax = 1, linewidths = 1,\n",
    "           annot = True, fmt = \".2f\", annot_kws = {\"size\": 18}, cmap = \"RdBu\", xticklabels=['AvgHse', 'TotalPop', 'PopDens', 'Cases'])"
   ]
  },
  {
   "cell_type": "code",
   "execution_count": 23,
   "id": "47f2dc14",
   "metadata": {},
   "outputs": [],
   "source": [
    "sb.set()"
   ]
  },
  {
   "cell_type": "code",
   "execution_count": 24,
   "id": "0daaefc6",
   "metadata": {},
   "outputs": [
    {
     "data": {
      "text/plain": [
       "<seaborn.axisgrid.PairGrid at 0x21dd3cf89d0>"
      ]
     },
     "execution_count": 24,
     "metadata": {},
     "output_type": "execute_result"
    },
    {
     "data": {
      "text/plain": [
       "<Figure size 576x576 with 0 Axes>"
      ]
     },
     "metadata": {},
     "output_type": "display_data"
    },
    {
     "data": {
      "image/png": "[encoded data removed]",
      "text/plain": [
       "<Figure size 540x180 with 3 Axes>"
      ]
     },
     "metadata": {},
     "output_type": "display_data"
    }
   ],
   "source": [
    "sb.set(font_scale=0.65)\n",
    "f = plt.figure(figsize=(8, 8))\n",
    "sb.pairplot(usa_covid_population, y_vars=\"Confirmed\", x_vars=['Average Household Size', 'Total Population', 'Population Density (people per square kilometer)'])"
   ]
  },
  {
   "cell_type": "code",
   "execution_count": 25,
   "id": "eb4092dd",
   "metadata": {},
   "outputs": [],
   "source": [
    "usa_covid_population_clean = pd.DataFrame(removeOutliers(usa_covid_population))"
   ]
  },
  {
   "cell_type": "code",
   "execution_count": 26,
   "id": "fb368a8a",
   "metadata": {},
   "outputs": [
    {
     "data": {
      "text/plain": [
       "<seaborn.axisgrid.PairGrid at 0x21dd3cf86d0>"
      ]
     },
     "execution_count": 26,
     "metadata": {},
     "output_type": "execute_result"
    },
    {
     "data": {
      "text/plain": [
       "<Figure size 576x576 with 0 Axes>"
      ]
     },
     "metadata": {},
     "output_type": "display_data"
    },
    {
     "data": {
      "image/png": "[encoded data removed]",
      "text/plain": [
       "<Figure size 540x180 with 3 Axes>"
      ]
     },
     "metadata": {},
     "output_type": "display_data"
    }
   ],
   "source": [
    "sb.set(font_scale=0.65)\n",
    "f = plt.figure(figsize=(8, 8))\n",
    "sb.pairplot(usa_covid_population_clean, y_vars=\"Confirmed\", x_vars=['Average Household Size', 'Total Population', 'Population Density (people per square kilometer)'])"
   ]
  },
  {
   "cell_type": "markdown",
   "id": "6d262d62",
   "metadata": {},
   "source": [
    "## Bi-Variate Analysis: Average Household Size as a predictor Variable"
   ]
  },
  {
   "cell_type": "code",
   "execution_count": 27,
   "id": "d282c088",
   "metadata": {},
   "outputs": [
    {
     "ename": "KeyError",
     "evalue": "\"['Deaths'] not in index\"",
     "output_type": "error",
     "traceback": [
      "\u001b[1;31m---------------------------------------------------------------------------\u001b[0m",
      "\u001b[1;31mKeyError\u001b[0m                                  Traceback (most recent call last)",
      "\u001b[1;32m<ipython-input-27-053c3b3ddba9>\u001b[0m in \u001b[0;36m<module>\u001b[1;34m\u001b[0m\n\u001b[1;32m----> 1\u001b[1;33m \u001b[0musa_covid_household\u001b[0m \u001b[1;33m=\u001b[0m \u001b[0musa_covid_population\u001b[0m\u001b[1;33m[\u001b[0m\u001b[1;33m[\u001b[0m\u001b[1;34m'Average Household Size'\u001b[0m\u001b[1;33m,\u001b[0m \u001b[1;34m'Confirmed'\u001b[0m\u001b[1;33m,\u001b[0m \u001b[1;34m'Deaths'\u001b[0m\u001b[1;33m]\u001b[0m\u001b[1;33m]\u001b[0m\u001b[1;33m\u001b[0m\u001b[1;33m\u001b[0m\u001b[0m\n\u001b[0m\u001b[0;32m      2\u001b[0m \u001b[0musa_covid_household\u001b[0m\u001b[1;33m.\u001b[0m\u001b[0mhead\u001b[0m\u001b[1;33m(\u001b[0m\u001b[1;33m)\u001b[0m\u001b[1;33m\u001b[0m\u001b[1;33m\u001b[0m\u001b[0m\n",
      "\u001b[1;32m~\\anaconda3\\lib\\site-packages\\pandas\\core\\frame.py\u001b[0m in \u001b[0;36m__getitem__\u001b[1;34m(self, key)\u001b[0m\n\u001b[0;32m   3028\u001b[0m             \u001b[1;32mif\u001b[0m \u001b[0mis_iterator\u001b[0m\u001b[1;33m(\u001b[0m\u001b[0mkey\u001b[0m\u001b[1;33m)\u001b[0m\u001b[1;33m:\u001b[0m\u001b[1;33m\u001b[0m\u001b[1;33m\u001b[0m\u001b[0m\n\u001b[0;32m   3029\u001b[0m                 \u001b[0mkey\u001b[0m \u001b[1;33m=\u001b[0m \u001b[0mlist\u001b[0m\u001b[1;33m(\u001b[0m\u001b[0mkey\u001b[0m\u001b[1;33m)\u001b[0m\u001b[1;33m\u001b[0m\u001b[1;33m\u001b[0m\u001b[0m\n\u001b[1;32m-> 3030\u001b[1;33m             \u001b[0mindexer\u001b[0m \u001b[1;33m=\u001b[0m \u001b[0mself\u001b[0m\u001b[1;33m.\u001b[0m\u001b[0mloc\u001b[0m\u001b[1;33m.\u001b[0m\u001b[0m_get_listlike_indexer\u001b[0m\u001b[1;33m(\u001b[0m\u001b[0mkey\u001b[0m\u001b[1;33m,\u001b[0m \u001b[0maxis\u001b[0m\u001b[1;33m=\u001b[0m\u001b[1;36m1\u001b[0m\u001b[1;33m,\u001b[0m \u001b[0mraise_missing\u001b[0m\u001b[1;33m=\u001b[0m\u001b[1;32mTrue\u001b[0m\u001b[1;33m)\u001b[0m\u001b[1;33m[\u001b[0m\u001b[1;36m1\u001b[0m\u001b[1;33m]\u001b[0m\u001b[1;33m\u001b[0m\u001b[1;33m\u001b[0m\u001b[0m\n\u001b[0m\u001b[0;32m   3031\u001b[0m \u001b[1;33m\u001b[0m\u001b[0m\n\u001b[0;32m   3032\u001b[0m         \u001b[1;31m# take() does not accept boolean indexers\u001b[0m\u001b[1;33m\u001b[0m\u001b[1;33m\u001b[0m\u001b[1;33m\u001b[0m\u001b[0m\n",
      "\u001b[1;32m~\\anaconda3\\lib\\site-packages\\pandas\\core\\indexing.py\u001b[0m in \u001b[0;36m_get_listlike_indexer\u001b[1;34m(self, key, axis, raise_missing)\u001b[0m\n\u001b[0;32m   1264\u001b[0m             \u001b[0mkeyarr\u001b[0m\u001b[1;33m,\u001b[0m \u001b[0mindexer\u001b[0m\u001b[1;33m,\u001b[0m \u001b[0mnew_indexer\u001b[0m \u001b[1;33m=\u001b[0m \u001b[0max\u001b[0m\u001b[1;33m.\u001b[0m\u001b[0m_reindex_non_unique\u001b[0m\u001b[1;33m(\u001b[0m\u001b[0mkeyarr\u001b[0m\u001b[1;33m)\u001b[0m\u001b[1;33m\u001b[0m\u001b[1;33m\u001b[0m\u001b[0m\n\u001b[0;32m   1265\u001b[0m \u001b[1;33m\u001b[0m\u001b[0m\n\u001b[1;32m-> 1266\u001b[1;33m         \u001b[0mself\u001b[0m\u001b[1;33m.\u001b[0m\u001b[0m_validate_read_indexer\u001b[0m\u001b[1;33m(\u001b[0m\u001b[0mkeyarr\u001b[0m\u001b[1;33m,\u001b[0m \u001b[0mindexer\u001b[0m\u001b[1;33m,\u001b[0m \u001b[0maxis\u001b[0m\u001b[1;33m,\u001b[0m \u001b[0mraise_missing\u001b[0m\u001b[1;33m=\u001b[0m\u001b[0mraise_missing\u001b[0m\u001b[1;33m)\u001b[0m\u001b[1;33m\u001b[0m\u001b[1;33m\u001b[0m\u001b[0m\n\u001b[0m\u001b[0;32m   1267\u001b[0m         \u001b[1;32mreturn\u001b[0m \u001b[0mkeyarr\u001b[0m\u001b[1;33m,\u001b[0m \u001b[0mindexer\u001b[0m\u001b[1;33m\u001b[0m\u001b[1;33m\u001b[0m\u001b[0m\n\u001b[0;32m   1268\u001b[0m \u001b[1;33m\u001b[0m\u001b[0m\n",
      "\u001b[1;32m~\\anaconda3\\lib\\site-packages\\pandas\\core\\indexing.py\u001b[0m in \u001b[0;36m_validate_read_indexer\u001b[1;34m(self, key, indexer, axis, raise_missing)\u001b[0m\n\u001b[0;32m   1314\u001b[0m             \u001b[1;32mif\u001b[0m \u001b[0mraise_missing\u001b[0m\u001b[1;33m:\u001b[0m\u001b[1;33m\u001b[0m\u001b[1;33m\u001b[0m\u001b[0m\n\u001b[0;32m   1315\u001b[0m                 \u001b[0mnot_found\u001b[0m \u001b[1;33m=\u001b[0m \u001b[0mlist\u001b[0m\u001b[1;33m(\u001b[0m\u001b[0mset\u001b[0m\u001b[1;33m(\u001b[0m\u001b[0mkey\u001b[0m\u001b[1;33m)\u001b[0m \u001b[1;33m-\u001b[0m \u001b[0mset\u001b[0m\u001b[1;33m(\u001b[0m\u001b[0max\u001b[0m\u001b[1;33m)\u001b[0m\u001b[1;33m)\u001b[0m\u001b[1;33m\u001b[0m\u001b[1;33m\u001b[0m\u001b[0m\n\u001b[1;32m-> 1316\u001b[1;33m                 \u001b[1;32mraise\u001b[0m \u001b[0mKeyError\u001b[0m\u001b[1;33m(\u001b[0m\u001b[1;34mf\"{not_found} not in index\"\u001b[0m\u001b[1;33m)\u001b[0m\u001b[1;33m\u001b[0m\u001b[1;33m\u001b[0m\u001b[0m\n\u001b[0m\u001b[0;32m   1317\u001b[0m \u001b[1;33m\u001b[0m\u001b[0m\n\u001b[0;32m   1318\u001b[0m             \u001b[0mnot_found\u001b[0m \u001b[1;33m=\u001b[0m \u001b[0mkey\u001b[0m\u001b[1;33m[\u001b[0m\u001b[0mmissing_mask\u001b[0m\u001b[1;33m]\u001b[0m\u001b[1;33m\u001b[0m\u001b[1;33m\u001b[0m\u001b[0m\n",
      "\u001b[1;31mKeyError\u001b[0m: \"['Deaths'] not in index\""
     ]
    }
   ],
   "source": [
    "usa_covid_household = usa_covid_population[['Average Household Size', 'Confirmed', 'Deaths']]\n",
    "usa_covid_household.head()"
   ]
  },
  {
   "cell_type": "code",
   "execution_count": null,
   "id": "2cde2047",
   "metadata": {
    "scrolled": true
   },
   "outputs": [],
   "source": [
    "usa_covid_household.describe()"
   ]
  },
  {
   "cell_type": "markdown",
   "id": "c8a3c130",
   "metadata": {},
   "source": [
    "Before commencing with the bi-variate exploration against our desired response variable, we do a uni-variate analysis of our predictor variable and observe how our predictor variable of Average Household Size is distributed amongst the different counties of the US."
   ]
  },
  {
   "cell_type": "code",
   "execution_count": null,
   "id": "57fa4b57",
   "metadata": {
    "scrolled": false
   },
   "outputs": [],
   "source": [
    "f, axes = plt.subplots(1, 3, figsize=(24, 12))\n",
    "\n",
    "sb.boxplot(data = usa_covid_household['Average Household Size'], orient = \"h\", ax = axes[0])\n",
    "sb.histplot(data = usa_covid_household['Average Household Size'], ax = axes[1])\n",
    "sb.violinplot(data = usa_covid_household['Average Household Size'], orient = \"h\", ax = axes[2])"
   ]
  },
  {
   "cell_type": "code",
   "execution_count": null,
   "id": "d92285ad",
   "metadata": {},
   "outputs": [],
   "source": [
    "usa_covid_household['Average Household Size'].skew()"
   ]
  },
  {
   "cell_type": "markdown",
   "id": "180c393b",
   "metadata": {},
   "source": [
    "Here we observe Average Household Size to be fairly normally distributed. However we do note, that the skewness of the distribution is 1.497, denoting a heavy right skew for the distribution. Looking at each of the plots of the data, we note that the median lies at around 2.5 average heads per household, with most of the data ranging from the 2 to 3 range. Without removing outliers just yet, let's see how this data translates to our response variables."
   ]
  },
  {
   "cell_type": "code",
   "execution_count": null,
   "id": "67b5aca8",
   "metadata": {
    "scrolled": false
   },
   "outputs": [],
   "source": [
    "for var in usa_covid_household:\n",
    "    sb.jointplot(data = usa_covid_household, x = \"Average Household Size\", y = var, height = 8)"
   ]
  },
  {
   "cell_type": "code",
   "execution_count": null,
   "id": "1167302a",
   "metadata": {},
   "outputs": [],
   "source": [
    "usa_covid_household.corr()"
   ]
  },
  {
   "cell_type": "code",
   "execution_count": null,
   "id": "0b18fbad",
   "metadata": {},
   "outputs": [],
   "source": [
    "f = plt.figure(figsize=(5, 5))\n",
    "sb.heatmap(usa_covid_household.corr(), vmin = -1, vmax = 1, linewidths = 1,\n",
    "           annot = True, fmt = \".2f\", annot_kws = {\"size\": 12}, cmap = \"RdBu\")"
   ]
  },
  {
   "cell_type": "markdown",
   "id": "648558ab",
   "metadata": {},
   "source": [
    "Placing each of the response variables against the predictor variable of Average Household Size, we see very interesting behaviour. It seems as though the variables simply fit into the distribution of Average Household Size, and that may be because the data points of each of the response variables are clustered towards extremes. In order to combat that, let us remove any outliers in the predictor and response variables and review the jointplots."
   ]
  },
  {
   "cell_type": "code",
   "execution_count": null,
   "id": "c7d5e6c0",
   "metadata": {},
   "outputs": [],
   "source": [
    "usa_covid_household_clean = pd.DataFrame(removeOutliers(usa_covid_household))"
   ]
  },
  {
   "cell_type": "code",
   "execution_count": null,
   "id": "95dec433",
   "metadata": {},
   "outputs": [],
   "source": [
    "usa_covid_household_clean.head()"
   ]
  },
  {
   "cell_type": "code",
   "execution_count": null,
   "id": "f9be4e12",
   "metadata": {},
   "outputs": [],
   "source": [
    "usa_covid_household_clean.describe()"
   ]
  },
  {
   "cell_type": "code",
   "execution_count": null,
   "id": "64ee6e43",
   "metadata": {},
   "outputs": [],
   "source": [
    "f, axes = plt.subplots(1, 3, figsize=(24, 12))\n",
    "\n",
    "sb.boxplot(data = usa_covid_household_clean['Average Household Size'], orient = \"h\", ax = axes[0])\n",
    "sb.histplot(data = usa_covid_household_clean['Average Household Size'], ax = axes[1])\n",
    "sb.violinplot(data = usa_covid_household_clean['Average Household Size'], orient = \"h\", ax = axes[2])"
   ]
  },
  {
   "cell_type": "code",
   "execution_count": null,
   "id": "0fa90ec6",
   "metadata": {},
   "outputs": [],
   "source": [
    "usa_covid_household_clean['Average Household Size'].skew()"
   ]
  },
  {
   "cell_type": "markdown",
   "id": "dfd3c469",
   "metadata": {},
   "source": [
    "With outliers removed we see a much more symmetrical distribution, with a much lower skewness at 0.356. Now, lets plot this new data set without outliers against our response variables."
   ]
  },
  {
   "cell_type": "code",
   "execution_count": null,
   "id": "ec009335",
   "metadata": {
    "scrolled": false
   },
   "outputs": [],
   "source": [
    "for var in usa_covid_household_clean:\n",
    "    sb.jointplot(data = usa_covid_household_clean, x = \"Average Household Size\", y = var, height = 8)"
   ]
  },
  {
   "cell_type": "code",
   "execution_count": null,
   "id": "49949c84",
   "metadata": {},
   "outputs": [],
   "source": [
    "usa_covid_household_clean.corr()"
   ]
  },
  {
   "cell_type": "code",
   "execution_count": null,
   "id": "149bac02",
   "metadata": {},
   "outputs": [],
   "source": [
    "f = plt.figure(figsize=(5, 5))\n",
    "sb.heatmap(usa_covid_household_clean.corr(), vmin = -1, vmax = 1, linewidths = 1,\n",
    "           annot = True, fmt = \".2f\", annot_kws = {\"size\": 12}, cmap = \"RdBu\")"
   ]
  },
  {
   "cell_type": "markdown",
   "id": "b2ebd7bd",
   "metadata": {},
   "source": [
    "Here we see there is little linear correlation between our predictor Average Household Size and the response variables, besides a low correlation between Average HouseHold Size and Confirmed cases. Nevertheless, we will observe other aspects of population parameters to see if we can build a fruitful model for the response variable."
   ]
  },
  {
   "cell_type": "markdown",
   "id": "e7bac183",
   "metadata": {},
   "source": [
    "## Bi-Variate Analysis: Total Population as a predictor Variable"
   ]
  },
  {
   "cell_type": "code",
   "execution_count": null,
   "id": "79fa5fed",
   "metadata": {},
   "outputs": [],
   "source": [
    "usa_covid_total = usa_covid_population[['Total Population', 'Confirmed', 'Deaths']]\n",
    "usa_covid_total.head()"
   ]
  },
  {
   "cell_type": "code",
   "execution_count": null,
   "id": "76107d5a",
   "metadata": {},
   "outputs": [],
   "source": [
    "usa_covid_total.describe()"
   ]
  },
  {
   "cell_type": "code",
   "execution_count": null,
   "id": "537de779",
   "metadata": {},
   "outputs": [],
   "source": [
    "f, axes = plt.subplots(1, 3, figsize=(24, 12))\n",
    "\n",
    "sb.boxplot(data = usa_covid_total['Total Population'], orient = \"h\", ax = axes[0])\n",
    "sb.histplot(data = usa_covid_total['Total Population'], ax = axes[1])\n",
    "sb.violinplot(data = usa_covid_total['Total Population'], orient = \"h\", ax = axes[2])"
   ]
  },
  {
   "cell_type": "code",
   "execution_count": null,
   "id": "e443ebbb",
   "metadata": {},
   "outputs": [],
   "source": [
    "usa_covid_total['Total Population'].skew()"
   ]
  },
  {
   "cell_type": "markdown",
   "id": "5553994c",
   "metadata": {},
   "source": [
    "Here we see Total Population to be HEAVILY right skew, with a skewness of 13.97. Although it will be unlikely to produce any fruitful insight, we will carry on with the initial bivariate analysis with the response variables."
   ]
  },
  {
   "cell_type": "code",
   "execution_count": null,
   "id": "6f2ee4d6",
   "metadata": {
    "scrolled": false
   },
   "outputs": [],
   "source": [
    "for var in usa_covid_total:\n",
    "    sb.jointplot(data = usa_covid_total, x = \"Total Population\", y = var, height = 8)"
   ]
  },
  {
   "cell_type": "code",
   "execution_count": null,
   "id": "c1236076",
   "metadata": {},
   "outputs": [],
   "source": [
    "usa_covid_total.corr()"
   ]
  },
  {
   "cell_type": "code",
   "execution_count": null,
   "id": "26ddb78d",
   "metadata": {},
   "outputs": [],
   "source": [
    "f = plt.figure(figsize=(5, 5))\n",
    "sb.heatmap(usa_covid_total.corr(), vmin = -1, vmax = 1, linewidths = 1,\n",
    "           annot = True, fmt = \".2f\", annot_kws = {\"size\": 12}, cmap = \"RdBu\")"
   ]
  },
  {
   "cell_type": "markdown",
   "id": "d2369de9",
   "metadata": {},
   "source": [
    "As expected, the jointplot seems to not be representative of the data as a whole. However, something that we may want to note is the relationship between Total Population and Confirmed cases. At the extremes, it does seem to follow some sort of linear relationship, with a fairly high correlation. We will take note of this as we remove these outliers and observe how the relationship changes."
   ]
  },
  {
   "cell_type": "code",
   "execution_count": null,
   "id": "3ae2c470",
   "metadata": {},
   "outputs": [],
   "source": [
    "usa_covid_total_clean = pd.DataFrame(removeOutliers(usa_covid_total))\n",
    "usa_covid_total_clean.head()"
   ]
  },
  {
   "cell_type": "code",
   "execution_count": null,
   "id": "810e545b",
   "metadata": {},
   "outputs": [],
   "source": [
    "usa_covid_total_clean.describe()"
   ]
  },
  {
   "cell_type": "code",
   "execution_count": null,
   "id": "ec909f2b",
   "metadata": {},
   "outputs": [],
   "source": [
    "f, axes = plt.subplots(1, 3, figsize=(24, 12))\n",
    "\n",
    "sb.boxplot(data = usa_covid_total_clean['Total Population'], orient = \"h\", ax = axes[0])\n",
    "sb.histplot(data = usa_covid_total_clean['Total Population'], ax = axes[1])\n",
    "sb.violinplot(data = usa_covid_total_clean['Total Population'], orient = \"h\", ax = axes[2])"
   ]
  },
  {
   "cell_type": "code",
   "execution_count": null,
   "id": "78fb8d1c",
   "metadata": {},
   "outputs": [],
   "source": [
    "usa_covid_total_clean['Total Population'].skew()"
   ]
  },
  {
   "cell_type": "markdown",
   "id": "4023a22c",
   "metadata": {},
   "source": [
    "With outliers removed, we still observe a heavy right skew on the distribution, however it does look more manageable and may give us more insight to plot against the response variables."
   ]
  },
  {
   "cell_type": "code",
   "execution_count": null,
   "id": "0566f95e",
   "metadata": {
    "scrolled": false
   },
   "outputs": [],
   "source": [
    "for var in usa_covid_total_clean:\n",
    "    sb.jointplot(data = usa_covid_total_clean, x = \"Total Population\", y = var, height = 8)"
   ]
  },
  {
   "cell_type": "code",
   "execution_count": null,
   "id": "026bb766",
   "metadata": {},
   "outputs": [],
   "source": [
    "usa_covid_total_clean.corr()"
   ]
  },
  {
   "cell_type": "code",
   "execution_count": null,
   "id": "0606c3d7",
   "metadata": {},
   "outputs": [],
   "source": [
    "f = plt.figure(figsize=(5, 5))\n",
    "sb.heatmap(usa_covid_total_clean.corr(), vmin = -1, vmax = 1, linewidths = 1,\n",
    "           annot = True, fmt = \".2f\", annot_kws = {\"size\": 12}, cmap = \"RdBu\")"
   ]
  },
  {
   "cell_type": "markdown",
   "id": "d1783f77",
   "metadata": {},
   "source": [
    "Here we note that there is a fairly strong linear correlation between Total Population and Confirmed cases, as well as a slightly weaker but still evident correlation with Deaths. This is promising for us and can be kept in mind as we carry on with our data exploration."
   ]
  },
  {
   "cell_type": "markdown",
   "id": "f64b2056",
   "metadata": {},
   "source": [
    "## Bi-Variate Analysis: Population Density as a predictor Variable"
   ]
  },
  {
   "cell_type": "code",
   "execution_count": null,
   "id": "fe14b7ea",
   "metadata": {},
   "outputs": [],
   "source": [
    "usa_covid_density = usa_covid_population[['Population Density (people per square kilometer)', 'Confirmed', 'Deaths']]\n",
    "usa_covid_density.head()"
   ]
  },
  {
   "cell_type": "code",
   "execution_count": null,
   "id": "dc6622dd",
   "metadata": {},
   "outputs": [],
   "source": [
    "usa_covid_density.describe()"
   ]
  },
  {
   "cell_type": "code",
   "execution_count": null,
   "id": "51352a13",
   "metadata": {},
   "outputs": [],
   "source": [
    "f, axes = plt.subplots(1, 3, figsize=(24, 12))\n",
    "\n",
    "sb.boxplot(data = usa_covid_density['Population Density (people per square kilometer)'], orient = \"h\", ax = axes[0])\n",
    "sb.histplot(data = usa_covid_density['Population Density (people per square kilometer)'], ax = axes[1])\n",
    "sb.violinplot(data = usa_covid_density['Population Density (people per square kilometer)'], orient = \"h\", ax = axes[2])"
   ]
  },
  {
   "cell_type": "code",
   "execution_count": null,
   "id": "ff08f3f3",
   "metadata": {},
   "outputs": [],
   "source": [
    "usa_covid_density['Population Density (people per square kilometer)'].skew()"
   ]
  },
  {
   "cell_type": "markdown",
   "id": "bc0f4516",
   "metadata": {},
   "source": [
    "Similar to Total Population, we see that Population Density is heavily right skew, however we will still carry on with the initial bivariate analysis to observe for any insight."
   ]
  },
  {
   "cell_type": "code",
   "execution_count": null,
   "id": "958f9c23",
   "metadata": {
    "scrolled": false
   },
   "outputs": [],
   "source": [
    "for var in usa_covid_density:\n",
    "    sb.jointplot(data = usa_covid_density, x = \"Population Density (people per square kilometer)\", y = var, height = 8)"
   ]
  },
  {
   "cell_type": "code",
   "execution_count": null,
   "id": "d9074cbc",
   "metadata": {},
   "outputs": [],
   "source": [
    "usa_covid_density.corr()"
   ]
  },
  {
   "cell_type": "code",
   "execution_count": null,
   "id": "9eee6c95",
   "metadata": {},
   "outputs": [],
   "source": [
    "f = plt.figure(figsize=(5, 5))\n",
    "sb.heatmap(usa_covid_density.corr(), vmin = -1, vmax = 1, linewidths = 1,\n",
    "           annot = True, fmt = \".2f\", annot_kws = {\"size\": 12}, cmap = \"RdBu\")"
   ]
  },
  {
   "cell_type": "markdown",
   "id": "f783c8db",
   "metadata": {},
   "source": [
    "As expected, the jointplot gives us little to no information, however the correlation between Population Density and Confirmed cases and Deaths may be interesting to look into, so we will keep our eye on that as we remove outliers from the data set."
   ]
  },
  {
   "cell_type": "code",
   "execution_count": null,
   "id": "80a9985b",
   "metadata": {},
   "outputs": [],
   "source": [
    "usa_covid_density_clean = pd.DataFrame(removeOutliers(usa_covid_density))\n",
    "usa_covid_density_clean.head()"
   ]
  },
  {
   "cell_type": "code",
   "execution_count": null,
   "id": "5127fc71",
   "metadata": {},
   "outputs": [],
   "source": [
    "usa_covid_density_clean.describe()"
   ]
  },
  {
   "cell_type": "code",
   "execution_count": null,
   "id": "0cbc05b1",
   "metadata": {},
   "outputs": [],
   "source": [
    "f, axes = plt.subplots(1, 3, figsize=(24, 12))\n",
    "\n",
    "sb.boxplot(data = usa_covid_density_clean['Population Density (people per square kilometer)'], orient = \"h\", ax = axes[0])\n",
    "sb.histplot(data = usa_covid_density_clean['Population Density (people per square kilometer)'], ax = axes[1])\n",
    "sb.violinplot(data = usa_covid_density_clean['Population Density (people per square kilometer)'], orient = \"h\", ax = axes[2])"
   ]
  },
  {
   "cell_type": "code",
   "execution_count": null,
   "id": "f9634cec",
   "metadata": {},
   "outputs": [],
   "source": [
    "usa_covid_density_clean['Population Density (people per square kilometer)'].skew()"
   ]
  },
  {
   "cell_type": "markdown",
   "id": "8d38d902",
   "metadata": {},
   "source": [
    "Similar with Total Population, we still observe a right skew, although it is much lower than it was when outliers were present."
   ]
  },
  {
   "cell_type": "code",
   "execution_count": null,
   "id": "3bdb4504",
   "metadata": {
    "scrolled": false
   },
   "outputs": [],
   "source": [
    "for var in usa_covid_density_clean:\n",
    "    sb.jointplot(data = usa_covid_density_clean, x = \"Population Density (people per square kilometer)\", y = var, height = 8)"
   ]
  },
  {
   "cell_type": "code",
   "execution_count": null,
   "id": "c3ba2c36",
   "metadata": {},
   "outputs": [],
   "source": [
    "usa_covid_density_clean.corr()"
   ]
  },
  {
   "cell_type": "code",
   "execution_count": null,
   "id": "87287051",
   "metadata": {},
   "outputs": [],
   "source": [
    "f = plt.figure(figsize=(5, 5))\n",
    "sb.heatmap(usa_covid_density_clean.corr(), vmin = -1, vmax = 1, linewidths = 1,\n",
    "           annot = True, fmt = \".2f\", annot_kws = {\"size\": 12}, cmap = \"RdBu\")"
   ]
  },
  {
   "cell_type": "markdown",
   "id": "6bfa5326",
   "metadata": {},
   "source": [
    "Removing outliers, we do see a dip in correlation, however it is interesting that the dip is not that extreme. The correlation between Population Density and Confirmed cases remains fairly high at 0.557 and against Deaths at 0.452. This is promising as we may be able to proceed with fitting a model to the response variables using our selected predictors."
   ]
  },
  {
   "cell_type": "markdown",
   "id": "2d3a3b19",
   "metadata": {},
   "source": [
    "## Multi-Variate Analysis: Creating a model to fit Response Variable (Confirmed)"
   ]
  },
  {
   "cell_type": "markdown",
   "id": "77a7b06f",
   "metadata": {},
   "source": [
    "Moving forward with regression analysis, we will the number of Confirmed cases as our response variable of choice as it makes sense both from a statistical perspective and geographic perspective. Statistically, Confirmed cases seems to have the highest correlation with each of our predictor variables, and geographically, it would make sense that when there are more individuals in a given household or county, the spread of the virus would quicken in those areas."
   ]
  },
  {
   "cell_type": "code",
   "execution_count": null,
   "id": "2ce3e263",
   "metadata": {},
   "outputs": [],
   "source": [
    "usa_covid_popmodel = usa_covid_population[['Average Household Size', 'Total Population', 'Population Density (people per square kilometer)', 'Confirmed']]\n",
    "usa_covid_popmodel.head()"
   ]
  },
  {
   "cell_type": "code",
   "execution_count": null,
   "id": "692996f1",
   "metadata": {
    "scrolled": true
   },
   "outputs": [],
   "source": [
    "usa_covid_popmodel.describe()"
   ]
  },
  {
   "cell_type": "markdown",
   "id": "07a9f0a7",
   "metadata": {},
   "source": [
    "Now, we will split the data into the training and testing data, utilising an 80:20 split."
   ]
  },
  {
   "cell_type": "code",
   "execution_count": null,
   "id": "15618d70",
   "metadata": {},
   "outputs": [],
   "source": [
    "# Removing outliers before train_test_split\n",
    "usa_covid_popmodel = pd.DataFrame(removeOutliers(usa_covid_popmodel))\n",
    "usa_covid_popmodel.head()"
   ]
  },
  {
   "cell_type": "code",
   "execution_count": null,
   "id": "c0c6abb6",
   "metadata": {},
   "outputs": [],
   "source": [
    "usa_covid_popmodel.describe()"
   ]
  },
  {
   "cell_type": "code",
   "execution_count": null,
   "id": "0aece9ed",
   "metadata": {},
   "outputs": [],
   "source": [
    "usa_covid_popmodel_train, usa_covid_popmodel_test = train_test_split(usa_covid_popmodel, test_size=0.2)"
   ]
  },
  {
   "cell_type": "code",
   "execution_count": null,
   "id": "7ea15719",
   "metadata": {},
   "outputs": [],
   "source": [
    "usa_population_predictors_train = pd.DataFrame(usa_covid_popmodel_train[['Average Household Size', 'Total Population', 'Population Density (people per square kilometer)']])\n",
    "usa_population_response_train = pd.DataFrame(usa_covid_popmodel_train[['Confirmed']])\n",
    "usa_population_predictors_test = pd.DataFrame(usa_covid_popmodel_test[['Average Household Size', 'Total Population', 'Population Density (people per square kilometer)']])\n",
    "usa_population_response_test = pd.DataFrame(usa_covid_popmodel_test[['Confirmed']])"
   ]
  },
  {
   "cell_type": "code",
   "execution_count": null,
   "id": "85bfd415",
   "metadata": {},
   "outputs": [],
   "source": [
    "# usa_population_predictors_train = pd.DataFrame(usa_covid_popmodel_train[['Total Population', 'Population Density (people per square kilometer)']])\n",
    "# usa_population_response_train = pd.DataFrame(usa_covid_popmodel_train[['Confirmed']])\n",
    "# usa_population_predictors_test = pd.DataFrame(usa_covid_popmodel_test[['Total Population', 'Population Density (people per square kilometer)']])\n",
    "# usa_population_response_test = pd.DataFrame(usa_covid_popmodel_test[['Confirmed']])"
   ]
  },
  {
   "cell_type": "markdown",
   "id": "992c9dd8",
   "metadata": {},
   "source": [
    "It should be noted here that the train_test_split function of SciKit-Learn is random, and thus results may differ from each run of the analysis"
   ]
  },
  {
   "cell_type": "code",
   "execution_count": null,
   "id": "fdbbad64",
   "metadata": {},
   "outputs": [],
   "source": [
    "linreg.fit(usa_population_predictors_train, usa_population_response_train)"
   ]
  },
  {
   "cell_type": "code",
   "execution_count": null,
   "id": "97b9d7ce",
   "metadata": {},
   "outputs": [],
   "source": [
    "print('Intercept \\t: b = ', linreg.intercept_)\n",
    "print('Coefficients \\t: a = ', linreg.coef_)\n",
    "pd.DataFrame(list(zip(usa_population_predictors_train.columns, linreg.coef_[0])), columns = [\"Predictors\", \"Coefficients\"])"
   ]
  },
  {
   "cell_type": "code",
   "execution_count": null,
   "id": "b865c92f",
   "metadata": {},
   "outputs": [],
   "source": [
    "# Predict the Total values from Predictors\n",
    "usa_population_response_train_pred = linreg.predict(usa_population_predictors_train)\n",
    "usa_population_response_test_pred = linreg.predict(usa_population_predictors_test)\n",
    "\n",
    "# Plot the Predictions vs the True values\n",
    "f, axes = plt.subplots(1, 2, figsize=(24, 12))\n",
    "axes[0].scatter(usa_population_response_train, usa_population_response_train_pred, color = \"blue\")\n",
    "axes[0].plot(usa_population_response_train, usa_population_response_train, 'r-', linewidth = 3)\n",
    "axes[0].set_xlabel(\"True values of the Response Variable (Train)\")\n",
    "axes[0].set_ylabel(\"Predicted values of the Response Variable (Train)\")\n",
    "axes[1].scatter(usa_population_response_test, usa_population_response_test_pred, color = \"green\")\n",
    "axes[1].plot(usa_population_response_test, usa_population_response_test, 'r-', linewidth = 3)\n",
    "axes[1].set_xlabel(\"True values of the Response Variable (Test)\")\n",
    "axes[1].set_ylabel(\"Predicted values of the Response Variable (Test)\")\n",
    "plt.show()"
   ]
  },
  {
   "cell_type": "code",
   "execution_count": null,
   "id": "a1605a24",
   "metadata": {},
   "outputs": [],
   "source": [
    "# Check the Goodness of Fit (on Train Data)\n",
    "print(\"Goodness of Fit of Model \\tTrain Dataset\")\n",
    "print(\"Explained Variance (R^2) \\t:\", linreg.score(usa_population_predictors_train, usa_population_response_train))\n",
    "print(\"Mean Squared Error (MSE) \\t:\", mean_squared_error(usa_population_response_train, usa_population_response_train_pred))\n",
    "print()\n",
    "\n",
    "# Check the Goodness of Fit (on Test Data)\n",
    "print(\"Goodness of Fit of Model \\tTest Dataset\")\n",
    "print(\"Explained Variance (R^2) \\t:\", linreg.score(usa_population_predictors_test, usa_population_response_test))\n",
    "print(\"Mean Squared Error (MSE) \\t:\", mean_squared_error(usa_population_response_test, usa_population_response_test_pred))\n",
    "print()"
   ]
  },
  {
   "cell_type": "markdown",
   "id": "e3982024",
   "metadata": {},
   "source": [
    "With this, we do not get a very strong Goodness of Fit for the test data, so lets try to model the regression using a cleaner version of the training data, without outliers."
   ]
  },
  {
   "cell_type": "code",
   "execution_count": null,
   "id": "d89729b8",
   "metadata": {},
   "outputs": [],
   "source": [
    "usa_covid_popmodel_train_clean = pd.DataFrame(removeOutliers(usa_covid_popmodel_train))\n",
    "usa_population_predictors_train_clean = pd.DataFrame(usa_covid_popmodel_train_clean[['Average Household Size', 'Total Population', 'Population Density (people per square kilometer)']])\n",
    "usa_population_response_train_clean = pd.DataFrame(usa_covid_popmodel_train_clean[['Confirmed']])"
   ]
  },
  {
   "cell_type": "code",
   "execution_count": null,
   "id": "3a6f5ffa",
   "metadata": {},
   "outputs": [],
   "source": [
    "# usa_covid_popmodel_train_clean = pd.DataFrame(removeOutliers(usa_covid_popmodel_train))\n",
    "# usa_population_predictors_train_clean = pd.DataFrame(usa_covid_popmodel_train_clean[['Total Population', 'Population Density (people per square kilometer)']])\n",
    "# usa_population_response_train_clean = pd.DataFrame(usa_covid_popmodel_train_clean[['Confirmed']])"
   ]
  },
  {
   "cell_type": "code",
   "execution_count": null,
   "id": "d5e4cc33",
   "metadata": {},
   "outputs": [],
   "source": [
    "linreg.fit(usa_population_predictors_train_clean, usa_population_response_train_clean)"
   ]
  },
  {
   "cell_type": "code",
   "execution_count": null,
   "id": "faebc77a",
   "metadata": {},
   "outputs": [],
   "source": [
    "print('Intercept \\t: b = ', linreg.intercept_)\n",
    "print('Coefficients \\t: a = ', linreg.coef_)\n",
    "pd.DataFrame(list(zip(usa_population_predictors_train_clean.columns, linreg.coef_[0])), columns = [\"Predictors\", \"Coefficients\"])"
   ]
  },
  {
   "cell_type": "code",
   "execution_count": null,
   "id": "43e9e6ef",
   "metadata": {
    "scrolled": false
   },
   "outputs": [],
   "source": [
    "# Predict the Total values from Predictors\n",
    "usa_population_response_train_clean_pred = linreg.predict(usa_population_predictors_train_clean)\n",
    "usa_population_response_test_pred = linreg.predict(usa_population_predictors_test)\n",
    "\n",
    "# Plot the Predictions vs the True values\n",
    "f, axes = plt.subplots(1, 2, figsize=(24, 12))\n",
    "axes[0].scatter(usa_population_response_train_clean, usa_population_response_train_clean_pred, color = \"blue\")\n",
    "axes[0].plot(usa_population_response_train_clean, usa_population_response_train_clean, 'r-', linewidth = 3)\n",
    "axes[0].set_xlabel(\"True values of the Response Variable (Train)\")\n",
    "axes[0].set_ylabel(\"Predicted values of the Response Variable (Train)\")\n",
    "axes[1].scatter(usa_population_response_test, usa_population_response_test_pred, color = \"green\")\n",
    "axes[1].plot(usa_population_response_test, usa_population_response_test, 'r-', linewidth = 3)\n",
    "axes[1].set_xlabel(\"True values of the Response Variable (Test)\")\n",
    "axes[1].set_ylabel(\"Predicted values of the Response Variable (Test)\")\n",
    "plt.show()"
   ]
  },
  {
   "cell_type": "code",
   "execution_count": null,
   "id": "4cd98c68",
   "metadata": {},
   "outputs": [],
   "source": [
    "# Check the Goodness of Fit (on Train Data)\n",
    "print(\"Goodness of Fit of Model \\tTrain Dataset\")\n",
    "print(\"Explained Variance (R^2) \\t:\", linreg.score(usa_population_predictors_train_clean, usa_population_response_train_clean))\n",
    "print(\"Mean Squared Error (MSE) \\t:\", mean_squared_error(usa_population_response_train_clean, usa_population_response_train_clean_pred))\n",
    "print()\n",
    "\n",
    "# Check the Goodness of Fit (on Test Data)\n",
    "print(\"Goodness of Fit of Model \\tTest Dataset\")\n",
    "print(\"Explained Variance (R^2) \\t:\", linreg.score(usa_population_predictors_test, usa_population_response_test))\n",
    "print(\"Mean Squared Error (MSE) \\t:\", mean_squared_error(usa_population_response_test, usa_population_response_test_pred))\n",
    "print()"
   ]
  },
  {
   "cell_type": "code",
   "execution_count": null,
   "id": "62e6fdb6",
   "metadata": {},
   "outputs": [],
   "source": [
    "from sklearn.tree import DecisionTreeRegressor\n",
    "\n",
    "# Linear Regression using Train Data\n",
    "dt = DecisionTreeRegressor(max_depth=6)\n",
    "dt.fit(usa_population_predictors_train_clean, usa_population_response_train_clean)\n",
    "\n",
    "# Predict the Total values from Predictors\n",
    "y_train_pred = dt.predict(usa_population_predictors_train_clean)\n",
    "y_test_pred = dt.predict(usa_population_predictors_test)\n",
    "\n",
    "# Check the Goodness of Fit (on Train Data)\n",
    "print(\"Goodness of Fit of Model \\tTrain Dataset\")\n",
    "print(\"Explained Variance (R^2) \\t:\", dt.score(usa_population_predictors_train_clean, usa_population_response_train_clean))\n",
    "print(\"Mean Squared Error (MSE) \\t:\", mean_squared_error(usa_population_response_train_clean, y_train_pred))\n",
    "print()\n",
    "\n",
    "# Check the Goodness of Fit (on Test Data)\n",
    "print(\"Goodness of Fit of Model \\tTest Dataset\")\n",
    "print(\"Explained Variance (R^2) \\t:\", dt.score(usa_population_predictors_test, usa_population_response_test))\n",
    "print(\"Mean Squared Error (MSE) \\t:\", mean_squared_error(usa_population_response_test, y_test_pred))\n",
    "print()"
   ]
  },
  {
   "cell_type": "markdown",
   "id": "b922e099",
   "metadata": {},
   "source": [
    "## Regression Analysis: Using only Total Population"
   ]
  },
  {
   "cell_type": "code",
   "execution_count": null,
   "id": "26fc5f78",
   "metadata": {},
   "outputs": [],
   "source": [
    "usa_population_totalpop_train = pd.DataFrame(usa_covid_popmodel_train[['Total Population']])\n",
    "usa_population_confirmed_train = pd.DataFrame(usa_covid_popmodel_train[['Confirmed']])\n",
    "usa_population_totalpop_test = pd.DataFrame(usa_covid_popmodel_test[['Total Population']])\n",
    "usa_population_confirmed_test = pd.DataFrame(usa_covid_popmodel_test[['Confirmed']])"
   ]
  },
  {
   "cell_type": "code",
   "execution_count": null,
   "id": "8da7d091",
   "metadata": {},
   "outputs": [],
   "source": [
    "linreg.fit(usa_population_totalpop_train, usa_population_confirmed_train)"
   ]
  },
  {
   "cell_type": "code",
   "execution_count": null,
   "id": "4d6a7739",
   "metadata": {},
   "outputs": [],
   "source": [
    "# Formula for the Regression line\n",
    "regline_x = usa_population_totalpop_train\n",
    "regline_y = linreg.intercept_ + linreg.coef_ * usa_population_totalpop_train\n",
    "\n",
    "# Plot the Linear Regression line\n",
    "f = plt.figure(figsize=(16, 8))\n",
    "plt.scatter(usa_population_totalpop_train, usa_population_confirmed_train)\n",
    "plt.plot(regline_x, regline_y, 'r-', linewidth = 3)\n",
    "plt.show()"
   ]
  },
  {
   "cell_type": "code",
   "execution_count": null,
   "id": "a7113af7",
   "metadata": {},
   "outputs": [],
   "source": [
    "usa_population_confirmed_train_pred = linreg.predict(usa_population_totalpop_train)\n",
    "\n",
    "# Plot the Linear Regression line\n",
    "f, axes = plt.subplots(1, 2, figsize=(24, 12))\n",
    "axes[0].scatter(usa_population_totalpop_train, usa_population_confirmed_train)\n",
    "axes[0].scatter(usa_population_totalpop_train, usa_population_confirmed_train_pred, color = \"r\")\n",
    "\n",
    "usa_population_confirmed_test_pred = linreg.predict(usa_population_totalpop_test)\n",
    "\n",
    "# Plot the Predictions\n",
    "axes[1].scatter(usa_population_totalpop_test, usa_population_confirmed_test, color = \"green\")\n",
    "axes[1].scatter(usa_population_totalpop_test, usa_population_confirmed_test_pred, color = \"red\")\n",
    "plt.show()"
   ]
  },
  {
   "cell_type": "code",
   "execution_count": null,
   "id": "44e23323",
   "metadata": {},
   "outputs": [],
   "source": [
    "# Explained Variance (R^2)\n",
    "print(\"Goodness of Fit of Model \\tTrain Dataset\")\n",
    "print(\"Explained Variance (R^2) \\t:\", linreg.score(usa_population_totalpop_train, usa_population_confirmed_train))\n",
    "\n",
    "mse = mean_sq_err(usa_population_confirmed_train, usa_population_confirmed_train_pred)\n",
    "print(\"Mean Squared Error (MSE) \\t:\", mse)\n",
    "print(\"Root Mean Squared Error (RMSE) \\t:\", np.sqrt(mse))\n",
    "print(\"\")\n",
    "\n",
    "# Explained Variance (R^2)\n",
    "print(\"Goodness of Fit of Model \\tTest Dataset\")\n",
    "print(\"Explained Variance (R^2) \\t:\", linreg.score(usa_population_totalpop_test, usa_population_confirmed_test))\n",
    "\n",
    "mse = mean_sq_err(usa_population_confirmed_test, usa_population_confirmed_test_pred)\n",
    "print(\"Mean Squared Error (MSE) \\t:\", mse)\n",
    "print(\"Root Mean Squared Error (RMSE) \\t:\", np.sqrt(mse))"
   ]
  },
  {
   "cell_type": "markdown",
   "id": "9af9f12d",
   "metadata": {},
   "source": [
    "Removing outliers from the training set to try again."
   ]
  },
  {
   "cell_type": "code",
   "execution_count": null,
   "id": "b03578b2",
   "metadata": {},
   "outputs": [],
   "source": [
    "usa_covid_popmodel_train_clean = pd.DataFrame(removeOutliers(usa_covid_popmodel_train))\n",
    "usa_population_totalpop_train_clean = pd.DataFrame(usa_covid_popmodel_train_clean[['Total Population']])\n",
    "usa_population_confirmed_train_clean = pd.DataFrame(usa_covid_popmodel_train_clean[['Confirmed']])"
   ]
  },
  {
   "cell_type": "code",
   "execution_count": null,
   "id": "3229bdcb",
   "metadata": {},
   "outputs": [],
   "source": [
    "linreg.fit(usa_population_totalpop_train_clean, usa_population_confirmed_train_clean)"
   ]
  },
  {
   "cell_type": "code",
   "execution_count": null,
   "id": "01203991",
   "metadata": {},
   "outputs": [],
   "source": [
    "# Formula for the Regression line\n",
    "regline_x = usa_population_totalpop_train_clean\n",
    "regline_y = linreg.intercept_ + linreg.coef_ * usa_population_totalpop_train_clean\n",
    "\n",
    "# Plot the Linear Regression line\n",
    "f = plt.figure(figsize=(16, 8))\n",
    "plt.scatter(usa_population_totalpop_train_clean, usa_population_confirmed_train_clean)\n",
    "plt.plot(regline_x, regline_y, 'r-', linewidth = 3)\n",
    "plt.show()"
   ]
  },
  {
   "cell_type": "code",
   "execution_count": null,
   "id": "858b29d7",
   "metadata": {},
   "outputs": [],
   "source": [
    "# Predict Total values corresponding to HP Train\n",
    "usa_population_confirmed_train_clean_pred = linreg.predict(usa_population_totalpop_train_clean)\n",
    "\n",
    "# Plot the Linear Regression line\n",
    "f, axes = plt.subplots(1, 2, figsize=(24, 12))\n",
    "axes[0].scatter(usa_population_totalpop_train_clean, usa_population_confirmed_train_clean)\n",
    "axes[0].scatter(usa_population_totalpop_train_clean, usa_population_confirmed_train_clean_pred, color = \"r\")\n",
    "\n",
    "usa_population_confirmed_test_pred = linreg.predict(usa_population_totalpop_test)\n",
    "\n",
    "# Plot the Predictions\n",
    "axes[1].scatter(usa_population_totalpop_test, usa_population_confirmed_test, color = \"green\")\n",
    "axes[1].scatter(usa_population_totalpop_test, usa_population_confirmed_test_pred, color = \"red\")\n",
    "plt.show()"
   ]
  },
  {
   "cell_type": "code",
   "execution_count": null,
   "id": "a906c66c",
   "metadata": {},
   "outputs": [],
   "source": [
    "# Explained Variance (R^2)\n",
    "print(\"Goodness of Fit of Model \\tTrain Dataset\")\n",
    "print(\"Explained Variance (R^2) \\t:\", linreg.score(usa_population_totalpop_train_clean, usa_population_confirmed_train_clean))\n",
    "\n",
    "mse = mean_sq_err(usa_population_confirmed_train_clean, usa_population_confirmed_train_clean_pred)\n",
    "print(\"Mean Squared Error (MSE) \\t:\", mse)\n",
    "print(\"Root Mean Squared Error (RMSE) \\t:\", np.sqrt(mse))\n",
    "print(\"\")\n",
    "\n",
    "# Explained Variance (R^2)\n",
    "print(\"Goodness of Fit of Model \\tTest Dataset\")\n",
    "print(\"Explained Variance (R^2) \\t:\", linreg.score(usa_population_totalpop_test, usa_population_confirmed_test))\n",
    "\n",
    "mse = mean_sq_err(usa_population_confirmed_test, usa_population_confirmed_test_pred)\n",
    "print(\"Mean Squared Error (MSE) \\t:\", mse)\n",
    "print(\"Root Mean Squared Error (RMSE) \\t:\", np.sqrt(mse))"
   ]
  },
  {
   "cell_type": "code",
   "execution_count": null,
   "id": "71041b09",
   "metadata": {},
   "outputs": [],
   "source": [
    "# Linear Regression using Train Data\n",
    "dt = DecisionTreeRegressor(max_depth=6)\n",
    "dt.fit(usa_population_totalpop_train_clean, usa_population_confirmed_train_clean)\n",
    "\n",
    "# Predict the Total values from Predictors\n",
    "y_train_pred = dt.predict(usa_population_totalpop_train_clean)\n",
    "y_test_pred = dt.predict(usa_population_totalpop_test)\n",
    "\n",
    "# Check the Goodness of Fit (on Train Data)\n",
    "print(\"Goodness of Fit of Model \\tTrain Dataset\")\n",
    "print(\"Explained Variance (R^2) \\t:\", dt.score(usa_population_totalpop_train_clean, usa_population_confirmed_train_clean))\n",
    "print(\"Mean Squared Error (MSE) \\t:\", mean_squared_error(usa_population_confirmed_train_clean, y_train_pred))\n",
    "print()\n",
    "\n",
    "# Check the Goodness of Fit (on Test Data)\n",
    "print(\"Goodness of Fit of Model \\tTest Dataset\")\n",
    "print(\"Explained Variance (R^2) \\t:\", dt.score(usa_population_totalpop_test, usa_population_confirmed_test))\n",
    "print(\"Mean Squared Error (MSE) \\t:\", mean_squared_error(usa_population_confirmed_test, y_test_pred))\n",
    "print()"
   ]
  }
 ],
 "metadata": {
  "kernelspec": {
   "display_name": "Python 3",
   "language": "python",
   "name": "python3"
  },
  "language_info": {
   "codemirror_mode": {
    "name": "ipython",
    "version": 3
   },
   "file_extension": ".py",
   "mimetype": "text/x-python",
   "name": "python",
   "nbconvert_exporter": "python",
   "pygments_lexer": "ipython3",
   "version": "3.8.8"
  }
 },
 "nbformat": 4,
 "nbformat_minor": 5
}
